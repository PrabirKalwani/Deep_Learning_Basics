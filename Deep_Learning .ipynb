{
 "cells": [
  {
   "cell_type": "code",
   "execution_count": 41,
   "id": "e710f366",
   "metadata": {},
   "outputs": [
    {
     "name": "stdout",
     "output_type": "stream",
     "text": [
      "Requirement already satisfied: torch in /opt/homebrew/anaconda3/lib/python3.11/site-packages (2.1.1)\n",
      "Requirement already satisfied: filelock in /opt/homebrew/anaconda3/lib/python3.11/site-packages (from torch) (3.9.0)\n",
      "Requirement already satisfied: typing-extensions in /opt/homebrew/anaconda3/lib/python3.11/site-packages (from torch) (4.7.1)\n",
      "Requirement already satisfied: sympy in /opt/homebrew/anaconda3/lib/python3.11/site-packages (from torch) (1.11.1)\n",
      "Requirement already satisfied: networkx in /opt/homebrew/anaconda3/lib/python3.11/site-packages (from torch) (3.1)\n",
      "Requirement already satisfied: jinja2 in /opt/homebrew/anaconda3/lib/python3.11/site-packages (from torch) (3.1.2)\n",
      "Requirement already satisfied: fsspec in /opt/homebrew/anaconda3/lib/python3.11/site-packages (from torch) (2023.4.0)\n",
      "Requirement already satisfied: MarkupSafe>=2.0 in /opt/homebrew/anaconda3/lib/python3.11/site-packages (from jinja2->torch) (2.1.1)\n",
      "Requirement already satisfied: mpmath>=0.19 in /opt/homebrew/anaconda3/lib/python3.11/site-packages (from sympy->torch) (1.3.0)\n",
      "Note: you may need to restart the kernel to use updated packages.\n"
     ]
    }
   ],
   "source": [
    "pip install torch"
   ]
  },
  {
   "cell_type": "code",
   "execution_count": 42,
   "id": "855fee06",
   "metadata": {},
   "outputs": [
    {
     "name": "stdout",
     "output_type": "stream",
     "text": [
      "zsh:1: command not found: pip\r\n"
     ]
    }
   ],
   "source": [
    "!pip list \n"
   ]
  },
  {
   "cell_type": "code",
   "execution_count": 43,
   "id": "339ad975",
   "metadata": {},
   "outputs": [
    {
     "name": "stdout",
     "output_type": "stream",
     "text": [
      "Package                       Version\r\n",
      "----------------------------- ------------\r\n",
      "aiobotocore                   2.5.0\r\n",
      "aiofiles                      22.1.0\r\n",
      "aiohttp                       3.8.5\r\n",
      "aioitertools                  0.7.1\r\n",
      "aiosignal                     1.2.0\r\n",
      "aiosqlite                     0.18.0\r\n",
      "alabaster                     0.7.12\r\n",
      "anaconda-anon-usage           0.4.2\r\n",
      "anaconda-catalogs             0.2.0\r\n",
      "anaconda-client               1.12.1\r\n",
      "anaconda-cloud-auth           0.1.3\r\n",
      "anaconda-navigator            2.5.0\r\n",
      "anaconda-project              0.11.1\r\n",
      "anyio                         3.5.0\r\n",
      "appdirs                       1.4.4\r\n",
      "applaunchservices             0.3.0\r\n",
      "appnope                       0.1.2\r\n",
      "appscript                     1.1.2\r\n",
      "argon2-cffi                   21.3.0\r\n",
      "argon2-cffi-bindings          21.2.0\r\n",
      "arrow                         1.2.3\r\n",
      "astroid                       2.14.2\r\n",
      "astropy                       5.1\r\n",
      "asttokens                     2.0.5\r\n",
      "async-timeout                 4.0.2\r\n",
      "atomicwrites                  1.4.0\r\n",
      "attrs                         22.1.0\r\n",
      "Automat                       20.2.0\r\n",
      "autopep8                      1.6.0\r\n",
      "Babel                         2.11.0\r\n",
      "backcall                      0.2.0\r\n",
      "backports.functools-lru-cache 1.6.4\r\n",
      "backports.tempfile            1.0\r\n",
      "backports.weakref             1.0.post1\r\n",
      "bcrypt                        3.2.0\r\n",
      "beautifulsoup4                4.12.2\r\n",
      "binaryornot                   0.4.4\r\n",
      "black                         0.0\r\n",
      "bleach                        4.1.0\r\n",
      "bokeh                         3.2.1\r\n",
      "boltons                       23.0.0\r\n",
      "botocore                      1.29.76\r\n",
      "Bottleneck                    1.3.5\r\n",
      "brotlipy                      0.7.0\r\n",
      "certifi                       2023.7.22\r\n",
      "cffi                          1.15.1\r\n",
      "chardet                       4.0.0\r\n",
      "charset-normalizer            2.0.4\r\n",
      "click                         8.0.4\r\n",
      "cloudpickle                   2.2.1\r\n",
      "clyent                        1.2.2\r\n",
      "colorama                      0.4.6\r\n",
      "colorcet                      3.0.1\r\n",
      "comm                          0.1.2\r\n",
      "conda                         23.7.4\r\n",
      "conda-build                   3.26.1\r\n",
      "conda-content-trust           0.2.0\r\n",
      "conda_index                   0.3.0\r\n",
      "conda-libmamba-solver         23.7.0\r\n",
      "conda-pack                    0.6.0\r\n",
      "conda-package-handling        2.2.0\r\n",
      "conda_package_streaming       0.9.0\r\n",
      "conda-repo-cli                1.0.75\r\n",
      "conda-token                   0.4.0\r\n",
      "conda-verify                  3.4.2\r\n",
      "constantly                    15.1.0\r\n",
      "contourpy                     1.0.5\r\n",
      "cookiecutter                  1.7.3\r\n",
      "cryptography                  41.0.3\r\n",
      "cssselect                     1.1.0\r\n",
      "cycler                        0.11.0\r\n",
      "cytoolz                       0.12.0\r\n",
      "dask                          2023.6.0\r\n",
      "datasets                      2.12.0\r\n",
      "datashader                    0.15.2\r\n",
      "datashape                     0.5.4\r\n",
      "debugpy                       1.6.7\r\n",
      "decorator                     5.1.1\r\n",
      "defusedxml                    0.7.1\r\n",
      "diff-match-patch              20200713\r\n",
      "dill                          0.3.6\r\n",
      "distributed                   2023.6.0\r\n",
      "docstring-to-markdown         0.11\r\n",
      "docutils                      0.18.1\r\n",
      "entrypoints                   0.4\r\n",
      "et-xmlfile                    1.1.0\r\n",
      "executing                     0.8.3\r\n",
      "fastjsonschema                2.16.2\r\n",
      "filelock                      3.9.0\r\n",
      "flake8                        6.0.0\r\n",
      "Flask                         2.2.2\r\n",
      "fonttools                     4.25.0\r\n",
      "frozenlist                    1.3.3\r\n",
      "fsspec                        2023.4.0\r\n",
      "future                        0.18.3\r\n",
      "gensim                        4.3.0\r\n",
      "glob2                         0.7\r\n",
      "gmpy2                         2.1.2\r\n",
      "greenlet                      2.0.1\r\n",
      "h5py                          3.9.0\r\n",
      "HeapDict                      1.0.1\r\n",
      "holoviews                     1.17.1\r\n",
      "huggingface-hub               0.15.1\r\n",
      "hvplot                        0.8.4\r\n",
      "hyperlink                     21.0.0\r\n",
      "idna                          3.4\r\n",
      "imagecodecs                   2023.1.23\r\n",
      "imageio                       2.31.1\r\n",
      "imagesize                     1.4.1\r\n",
      "imbalanced-learn              0.10.1\r\n",
      "importlib-metadata            6.0.0\r\n",
      "incremental                   21.3.0\r\n",
      "inflection                    0.5.1\r\n",
      "iniconfig                     1.1.1\r\n",
      "intake                        0.6.8\r\n",
      "intervaltree                  3.1.0\r\n",
      "ipykernel                     6.25.0\r\n",
      "ipython                       8.15.0\r\n",
      "ipython-genutils              0.2.0\r\n",
      "ipywidgets                    8.0.4\r\n",
      "isort                         5.9.3\r\n",
      "itemadapter                   0.3.0\r\n",
      "itemloaders                   1.0.4\r\n",
      "itsdangerous                  2.0.1\r\n",
      "jaraco.classes                3.2.1\r\n",
      "jedi                          0.18.1\r\n",
      "jellyfish                     1.0.1\r\n",
      "Jinja2                        3.1.2\r\n",
      "jinja2-time                   0.2.0\r\n",
      "jmespath                      0.10.0\r\n",
      "joblib                        1.2.0\r\n",
      "json5                         0.9.6\r\n",
      "jsonpatch                     1.32\r\n",
      "jsonpointer                   2.1\r\n",
      "jsonschema                    4.17.3\r\n",
      "jupyter                       1.0.0\r\n",
      "jupyter_client                7.4.9\r\n",
      "jupyter-console               6.6.3\r\n",
      "jupyter_core                  5.3.0\r\n",
      "jupyter-events                0.6.3\r\n",
      "jupyter-server                1.23.4\r\n",
      "jupyter_server_fileid         0.9.0\r\n",
      "jupyter_server_ydoc           0.8.0\r\n",
      "jupyter-ydoc                  0.2.4\r\n",
      "jupyterlab                    3.6.3\r\n",
      "jupyterlab-pygments           0.1.2\r\n",
      "jupyterlab_server             2.22.0\r\n",
      "jupyterlab-widgets            3.0.5\r\n",
      "kaleido                       0.2.1\r\n",
      "keyring                       23.13.1\r\n",
      "kiwisolver                    1.4.4\r\n",
      "lazy_loader                   0.2\r\n",
      "lazy-object-proxy             1.6.0\r\n",
      "libarchive-c                  2.9\r\n",
      "libmambapy                    1.5.1\r\n",
      "linkify-it-py                 2.0.0\r\n",
      "llvmlite                      0.40.0\r\n",
      "lmdb                          1.4.1\r\n",
      "locket                        1.0.0\r\n",
      "lxml                          4.9.3\r\n",
      "lz4                           4.3.2\r\n",
      "Markdown                      3.4.1\r\n",
      "markdown-it-py                2.2.0\r\n",
      "MarkupSafe                    2.1.1\r\n",
      "matplotlib                    3.7.2\r\n",
      "matplotlib-inline             0.1.6\r\n",
      "mccabe                        0.7.0\r\n",
      "mdit-py-plugins               0.3.0\r\n",
      "mdurl                         0.1.0\r\n",
      "mistune                       0.8.4\r\n",
      "more-itertools                8.12.0\r\n",
      "mpmath                        1.3.0\r\n",
      "msgpack                       1.0.3\r\n",
      "multidict                     6.0.2\r\n",
      "multipledispatch              0.6.0\r\n",
      "multiprocess                  0.70.14\r\n",
      "munkres                       1.1.4\r\n",
      "mypy-extensions               1.0.0\r\n",
      "navigator-updater             0.4.0\r\n",
      "nbclassic                     0.5.5\r\n",
      "nbclient                      0.5.13\r\n",
      "nbconvert                     6.5.4\r\n",
      "nbformat                      5.9.2\r\n",
      "nest-asyncio                  1.5.6\r\n",
      "networkx                      3.1\r\n",
      "nltk                          3.8.1\r\n",
      "notebook                      6.5.4\r\n",
      "notebook_shim                 0.2.2\r\n",
      "numba                         0.57.1\r\n",
      "numexpr                       2.8.4\r\n",
      "numpy                         1.24.3\r\n",
      "numpydoc                      1.5.0\r\n",
      "openpyxl                      3.0.10\r\n",
      "packaging                     23.1\r\n",
      "pandas                        2.0.3\r\n",
      "pandocfilters                 1.5.0\r\n",
      "panel                         1.2.3\r\n",
      "param                         1.13.0\r\n",
      "parsel                        1.6.0\r\n",
      "parso                         0.8.3\r\n",
      "partd                         1.4.0\r\n",
      "pathlib                       1.0.1\r\n",
      "pathspec                      0.10.3\r\n",
      "patsy                         0.5.3\r\n",
      "pep8                          1.7.1\r\n",
      "pexpect                       4.8.0\r\n",
      "pickleshare                   0.7.5\r\n",
      "Pillow                        9.4.0\r\n",
      "pip                           23.2.1\r\n",
      "pkce                          1.0.3\r\n",
      "pkginfo                       1.9.6\r\n",
      "platformdirs                  3.10.0\r\n",
      "plotly                        5.9.0\r\n",
      "pluggy                        1.0.0\r\n",
      "ply                           3.11\r\n",
      "poyo                          0.5.0\r\n",
      "prometheus-client             0.14.1\r\n",
      "prompt-toolkit                3.0.36\r\n",
      "Protego                       0.1.16\r\n",
      "psutil                        5.9.0\r\n",
      "ptyprocess                    0.7.0\r\n",
      "pure-eval                     0.2.2\r\n",
      "py-cpuinfo                    8.0.0\r\n",
      "pyarrow                       11.0.0\r\n",
      "pyasn1                        0.4.8\r\n",
      "pyasn1-modules                0.2.8\r\n",
      "pycodestyle                   2.10.0\r\n",
      "pycosat                       0.6.4\r\n",
      "pycparser                     2.21\r\n",
      "pyct                          0.5.0\r\n",
      "pycurl                        7.45.2\r\n",
      "pydantic                      1.10.8\r\n",
      "PyDispatcher                  2.0.5\r\n",
      "pydocstyle                    6.3.0\r\n",
      "pyerfa                        2.0.0\r\n",
      "pyflakes                      3.0.1\r\n",
      "Pygments                      2.15.1\r\n",
      "PyJWT                         2.4.0\r\n",
      "pylint                        2.16.2\r\n",
      "pylint-venv                   2.3.0\r\n",
      "pyls-spyder                   0.4.0\r\n",
      "pyobjc-core                   9.0\r\n",
      "pyobjc-framework-Cocoa        9.0\r\n",
      "pyobjc-framework-CoreServices 9.0\r\n",
      "pyobjc-framework-FSEvents     9.0\r\n",
      "pyodbc                        4.0.34\r\n",
      "pyOpenSSL                     23.2.0\r\n",
      "pyparsing                     3.0.9\r\n",
      "PyQt5-sip                     12.11.0\r\n",
      "pyrsistent                    0.18.0\r\n",
      "PySocks                       1.7.1\r\n",
      "pytest                        7.4.0\r\n",
      "python-dateutil               2.8.2\r\n",
      "python-dotenv                 0.21.0\r\n",
      "python-json-logger            2.0.7\r\n",
      "python-lsp-black              1.2.1\r\n",
      "python-lsp-jsonrpc            1.0.0\r\n",
      "python-lsp-server             1.7.2\r\n",
      "python-slugify                5.0.2\r\n",
      "python-snappy                 0.6.1\r\n",
      "pytoolconfig                  1.2.5\r\n",
      "pytz                          2023.3.post1\r\n",
      "pyviz-comms                   2.3.0\r\n",
      "PyWavelets                    1.4.1\r\n",
      "PyYAML                        6.0\r\n",
      "pyzmq                         23.2.0\r\n",
      "QDarkStyle                    3.0.2\r\n",
      "qstylizer                     0.2.2\r\n",
      "QtAwesome                     1.2.2\r\n",
      "qtconsole                     5.4.2\r\n",
      "QtPy                          2.2.0\r\n",
      "queuelib                      1.5.0\r\n",
      "regex                         2022.7.9\r\n",
      "requests                      2.31.0\r\n",
      "requests-file                 1.5.1\r\n",
      "requests-toolbelt             1.0.0\r\n",
      "responses                     0.13.3\r\n",
      "rfc3339-validator             0.1.4\r\n",
      "rfc3986-validator             0.1.1\r\n",
      "rope                          1.7.0\r\n",
      "Rtree                         1.0.1\r\n",
      "ruamel.yaml                   0.17.21\r\n",
      "ruamel-yaml-conda             0.17.21\r\n",
      "s3fs                          2023.4.0\r\n",
      "safetensors                   0.3.2\r\n",
      "scikit-image                  0.20.0\r\n",
      "scikit-learn                  1.3.0\r\n",
      "scipy                         1.11.1\r\n",
      "Scrapy                        2.8.0\r\n",
      "seaborn                       0.12.2\r\n",
      "Send2Trash                    1.8.0\r\n",
      "service-identity              18.1.0\r\n",
      "setuptools                    68.0.0\r\n",
      "sip                           6.6.2\r\n",
      "six                           1.16.0\r\n",
      "smart-open                    5.2.1\r\n",
      "sniffio                       1.2.0\r\n",
      "snowballstemmer               2.2.0\r\n",
      "sortedcontainers              2.4.0\r\n",
      "soupsieve                     2.4\r\n",
      "Sphinx                        5.0.2\r\n",
      "sphinxcontrib-applehelp       1.0.2\r\n",
      "sphinxcontrib-devhelp         1.0.2\r\n",
      "sphinxcontrib-htmlhelp        2.0.0\r\n",
      "sphinxcontrib-jsmath          1.0.1\r\n",
      "sphinxcontrib-qthelp          1.0.3\r\n",
      "sphinxcontrib-serializinghtml 1.1.5\r\n",
      "spyder                        5.4.3\r\n",
      "spyder-kernels                2.4.4\r\n",
      "SQLAlchemy                    1.4.39\r\n",
      "stack-data                    0.2.0\r\n",
      "statsmodels                   0.14.0\r\n",
      "sympy                         1.11.1\r\n",
      "tables                        3.8.0\r\n",
      "tabulate                      0.8.10\r\n",
      "tblib                         1.7.0\r\n",
      "tenacity                      8.2.2\r\n",
      "terminado                     0.17.1\r\n",
      "text-unidecode                1.3\r\n",
      "textdistance                  4.2.1\r\n",
      "threadpoolctl                 2.2.0\r\n",
      "three-merge                   0.1.1\r\n",
      "tifffile                      2023.4.12\r\n",
      "tinycss2                      1.2.1\r\n",
      "tldextract                    3.2.0\r\n",
      "tokenizers                    0.13.2\r\n",
      "toml                          0.10.2\r\n",
      "tomlkit                       0.11.1\r\n",
      "toolz                         0.12.0\r\n",
      "torch                         2.1.1\r\n",
      "torchvision                   0.16.1\r\n",
      "tornado                       6.3.2\r\n",
      "tqdm                          4.65.0\r\n",
      "traitlets                     5.7.1\r\n",
      "transformers                  4.32.1\r\n",
      "Twisted                       22.10.0\r\n",
      "typing_extensions             4.7.1\r\n",
      "tzdata                        2023.3\r\n",
      "uc-micro-py                   1.0.1\r\n",
      "ujson                         5.4.0\r\n",
      "Unidecode                     1.2.0\r\n",
      "urllib3                       1.26.16\r\n",
      "w3lib                         1.21.0\r\n",
      "watchdog                      2.1.6\r\n",
      "wcwidth                       0.2.5\r\n",
      "webencodings                  0.5.1\r\n",
      "websocket-client              0.58.0\r\n",
      "Werkzeug                      2.2.3\r\n",
      "whatthepatch                  1.0.2\r\n",
      "wheel                         0.38.4\r\n",
      "widgetsnbextension            4.0.5\r\n",
      "wrapt                         1.14.1\r\n",
      "wurlitzer                     3.0.2\r\n",
      "xarray                        2023.6.0\r\n",
      "xlwings                       0.29.1\r\n",
      "xxhash                        2.0.2\r\n",
      "xyzservices                   2022.9.0\r\n",
      "y-py                          0.5.9\r\n",
      "yapf                          0.31.0\r\n",
      "yarl                          1.8.1\r\n",
      "ypy-websocket                 0.8.2\r\n",
      "zict                          2.2.0\r\n",
      "zipp                          3.11.0\r\n",
      "zope.interface                5.4.0\r\n",
      "zstandard                     0.19.0\r\n"
     ]
    },
    {
     "name": "stdout",
     "output_type": "stream",
     "text": [
      "Note: you may need to restart the kernel to use updated packages.\n"
     ]
    }
   ],
   "source": [
    "pip list "
   ]
  },
  {
   "cell_type": "code",
   "execution_count": 44,
   "id": "c8aa0c63",
   "metadata": {},
   "outputs": [
    {
     "data": {
      "text/plain": [
       "[[1, 2, 3, 4, 5], [1, 2, 2, 3, 4]]"
      ]
     },
     "execution_count": 44,
     "metadata": {},
     "output_type": "execute_result"
    }
   ],
   "source": [
    "my_list = [[1,2,3,4,5],[1,2,2,3,4]]\n",
    "my_list"
   ]
  },
  {
   "cell_type": "markdown",
   "id": "5462ceb4",
   "metadata": {},
   "source": [
    "How does this work is basically torch is like an array or numpy array on drugs \n"
   ]
  },
  {
   "cell_type": "code",
   "execution_count": 45,
   "id": "aa28b58d",
   "metadata": {},
   "outputs": [
    {
     "data": {
      "text/plain": [
       "array([[0.24157238, 0.09156409, 0.43417445, 0.00504646],\n",
       "       [0.40199393, 0.49653327, 0.05190841, 0.07756338],\n",
       "       [0.4753721 , 0.30514124, 0.31033358, 0.73837563]])"
      ]
     },
     "execution_count": 45,
     "metadata": {},
     "output_type": "execute_result"
    }
   ],
   "source": [
    "import numpy as np\n",
    "\n",
    "np1 = np.random.rand(3,4)\n",
    "np1"
   ]
  },
  {
   "cell_type": "code",
   "execution_count": 46,
   "id": "d65d0833",
   "metadata": {},
   "outputs": [
    {
     "data": {
      "text/plain": [
       "tensor([[0.7234, 0.2406, 0.4093, 0.9738],\n",
       "        [0.2052, 0.7404, 0.8668, 0.7421],\n",
       "        [0.1588, 0.6535, 0.0484, 0.2422]])"
      ]
     },
     "execution_count": 46,
     "metadata": {},
     "output_type": "execute_result"
    }
   ],
   "source": [
    "import torch as torch\n",
    "tensor_2d = torch.rand(3,4)\n",
    "tensor_2d"
   ]
  },
  {
   "cell_type": "markdown",
   "id": "e95141cf",
   "metadata": {},
   "source": [
    "**TENSOR**\n",
    "\n",
    "\n",
    "-> A torch. Tensor is a mutidimensional matrix containing elements of a single data type\n",
    "-> similar to numpy arrays but full of thing make them better on GPUS \n",
    "-> deafault data type of float 32 \n",
    "-> morstable for learning than an numpy array\n"
   ]
  },
  {
   "cell_type": "code",
   "execution_count": 47,
   "id": "ff4970c1",
   "metadata": {},
   "outputs": [
    {
     "data": {
      "text/plain": [
       "tensor([0, 1, 2, 3, 4, 5, 6, 7, 8, 9])"
      ]
     },
     "execution_count": 47,
     "metadata": {},
     "output_type": "execute_result"
    }
   ],
   "source": [
    "my_torch = torch.arange(10)\n",
    "my_torch"
   ]
  },
  {
   "cell_type": "code",
   "execution_count": 48,
   "id": "1216d9bf",
   "metadata": {},
   "outputs": [
    {
     "data": {
      "text/plain": [
       "tensor([[0, 1, 2, 3, 4],\n",
       "        [5, 6, 7, 8, 9]])"
      ]
     },
     "execution_count": 48,
     "metadata": {},
     "output_type": "execute_result"
    }
   ],
   "source": [
    "#reshape and view \n",
    "my_torch= my_torch.reshape(2,5)\n",
    "my_torch\n"
   ]
  },
  {
   "cell_type": "code",
   "execution_count": 49,
   "id": "d4ff3f1c",
   "metadata": {},
   "outputs": [
    {
     "data": {
      "text/plain": [
       "tensor([[0, 1, 2, 3, 4],\n",
       "        [5, 6, 7, 8, 9]])"
      ]
     },
     "execution_count": 49,
     "metadata": {},
     "output_type": "execute_result"
    }
   ],
   "source": [
    "#reshape if we dont know the number of items \n",
    "my_torch2 = torch.arange(10)\n",
    "my_torch2 \n",
    "\n",
    "my_torch2 =my_torch2.reshape(2,-1)\n",
    "my_torch2\n",
    "#can i do the inverse -> the answer would be yes "
   ]
  },
  {
   "cell_type": "code",
   "execution_count": 50,
   "id": "8d84a407",
   "metadata": {},
   "outputs": [],
   "source": [
    "my_torch3 = torch.arange(12)"
   ]
  },
  {
   "cell_type": "code",
   "execution_count": 51,
   "id": "d15a966b",
   "metadata": {},
   "outputs": [],
   "source": [
    "my_torch4 = my_torch3.view(2,6)"
   ]
  },
  {
   "cell_type": "code",
   "execution_count": 52,
   "id": "d040b51f",
   "metadata": {},
   "outputs": [],
   "source": [
    "#view and reshape are similar in pytorch"
   ]
  },
  {
   "cell_type": "code",
   "execution_count": 53,
   "id": "0e61a787",
   "metadata": {},
   "outputs": [
    {
     "data": {
      "text/plain": [
       "tensor([0, 1, 2, 3, 4, 5, 6, 7, 8, 9])"
      ]
     },
     "execution_count": 53,
     "metadata": {},
     "output_type": "execute_result"
    }
   ],
   "source": [
    "#with reshape and view , they will update \n",
    "my_torch5 =torch.arange(10)\n",
    "my_torch6 = my_torch5.reshape(2,5) \n",
    "my_torch5\n"
   ]
  },
  {
   "cell_type": "code",
   "execution_count": 54,
   "id": "e8342820",
   "metadata": {},
   "outputs": [
    {
     "data": {
      "text/plain": [
       "tensor([[ 0, 69,  2,  3,  4],\n",
       "        [ 5,  6,  7,  8,  9]])"
      ]
     },
     "execution_count": 54,
     "metadata": {},
     "output_type": "execute_result"
    }
   ],
   "source": [
    "my_torch5[1] =69\n",
    " \n",
    "my_torch6\n",
    "\n",
    "#always keeps an idea of the orginal tensor "
   ]
  },
  {
   "cell_type": "code",
   "execution_count": 55,
   "id": "715638e0",
   "metadata": {},
   "outputs": [
    {
     "data": {
      "text/plain": [
       "tensor(7)"
      ]
     },
     "execution_count": 55,
     "metadata": {},
     "output_type": "execute_result"
    }
   ],
   "source": [
    "#slices - allow you take a part of a tensor \n",
    "torch7 = torch.arange(10)\n",
    "torch7[7]\n",
    "#grabbing a scalar specific item "
   ]
  },
  {
   "cell_type": "code",
   "execution_count": 56,
   "id": "9b9dd5b9",
   "metadata": {},
   "outputs": [],
   "source": [
    "torch8 = torch7.reshape(2,5)"
   ]
  },
  {
   "cell_type": "code",
   "execution_count": 57,
   "id": "9a1a8e6c",
   "metadata": {},
   "outputs": [
    {
     "data": {
      "text/plain": [
       "tensor([[0, 1, 2, 3, 4],\n",
       "        [5, 6, 7, 8, 9]])"
      ]
     },
     "execution_count": 57,
     "metadata": {},
     "output_type": "execute_result"
    }
   ],
   "source": [
    "torch8"
   ]
  },
  {
   "cell_type": "code",
   "execution_count": 58,
   "id": "6a9b5980",
   "metadata": {},
   "outputs": [
    {
     "data": {
      "text/plain": [
       "tensor([[5, 6, 7, 8, 9]])"
      ]
     },
     "execution_count": 58,
     "metadata": {},
     "output_type": "execute_result"
    }
   ],
   "source": [
    "torch8[1:]"
   ]
  },
  {
   "cell_type": "code",
   "execution_count": 59,
   "id": "a335f3c4",
   "metadata": {},
   "outputs": [
    {
     "data": {
      "text/plain": [
       "tensor([[1],\n",
       "        [6]])"
      ]
     },
     "execution_count": 59,
     "metadata": {},
     "output_type": "execute_result"
    }
   ],
   "source": [
    "torch8[:,1:2]"
   ]
  },
  {
   "cell_type": "code",
   "execution_count": 60,
   "id": "975f8ce1",
   "metadata": {},
   "outputs": [],
   "source": [
    "#BASIC TENSOR MATH OPERATIONS \n",
    "tensor_a = torch.tensor([1,2,3,4])\n",
    "tensor_b = torch.tensor([5,6,7,8])"
   ]
  },
  {
   "cell_type": "code",
   "execution_count": 61,
   "id": "69e0c297",
   "metadata": {},
   "outputs": [],
   "source": [
    "# adding "
   ]
  },
  {
   "cell_type": "code",
   "execution_count": 62,
   "id": "6241b856",
   "metadata": {},
   "outputs": [
    {
     "data": {
      "text/plain": [
       "tensor([ 6,  8, 10, 12])"
      ]
     },
     "execution_count": 62,
     "metadata": {},
     "output_type": "execute_result"
    }
   ],
   "source": [
    "tensor_a+tensor_b "
   ]
  },
  {
   "cell_type": "code",
   "execution_count": 63,
   "id": "f3ab4e01",
   "metadata": {},
   "outputs": [],
   "source": [
    "#adding longhand "
   ]
  },
  {
   "cell_type": "code",
   "execution_count": 64,
   "id": "955b03cc",
   "metadata": {},
   "outputs": [
    {
     "data": {
      "text/plain": [
       "tensor([ 6,  8, 10, 12])"
      ]
     },
     "execution_count": 64,
     "metadata": {},
     "output_type": "execute_result"
    }
   ],
   "source": [
    " torch.add(tensor_a,tensor_b)"
   ]
  },
  {
   "cell_type": "code",
   "execution_count": 65,
   "id": "5b44b31e",
   "metadata": {},
   "outputs": [],
   "source": [
    "#tensor substractions "
   ]
  },
  {
   "cell_type": "code",
   "execution_count": 66,
   "id": "d2d4c182",
   "metadata": {},
   "outputs": [
    {
     "data": {
      "text/plain": [
       "tensor([-4, -4, -4, -4])"
      ]
     },
     "execution_count": 66,
     "metadata": {},
     "output_type": "execute_result"
    }
   ],
   "source": [
    "tensor_a- tensor_b\n",
    "torch.sub(tensor_a,tensor_b)"
   ]
  },
  {
   "cell_type": "code",
   "execution_count": 67,
   "id": "fdd2e72c",
   "metadata": {},
   "outputs": [
    {
     "data": {
      "text/plain": [
       "tensor([5.0000, 3.0000, 2.3333, 2.0000])"
      ]
     },
     "execution_count": 67,
     "metadata": {},
     "output_type": "execute_result"
    }
   ],
   "source": [
    "#divide ( converts it into float )\n",
    "tensor_b/tensor_a"
   ]
  },
  {
   "cell_type": "code",
   "execution_count": 68,
   "id": "49b7a711",
   "metadata": {},
   "outputs": [
    {
     "data": {
      "text/plain": [
       "tensor([5.0000, 3.0000, 2.3333, 2.0000])"
      ]
     },
     "execution_count": 68,
     "metadata": {},
     "output_type": "execute_result"
    }
   ],
   "source": [
    "torch.div(tensor_b,tensor_a)\n"
   ]
  },
  {
   "cell_type": "code",
   "execution_count": 69,
   "id": "b30eb4a0",
   "metadata": {},
   "outputs": [],
   "source": [
    "#remainder "
   ]
  },
  {
   "cell_type": "code",
   "execution_count": 70,
   "id": "cf1a4efb",
   "metadata": {},
   "outputs": [
    {
     "data": {
      "text/plain": [
       "tensor([0, 0, 1, 0])"
      ]
     },
     "execution_count": 70,
     "metadata": {},
     "output_type": "execute_result"
    }
   ],
   "source": [
    "tensor_b%tensor_a\n",
    "torch.remainder(tensor_b,tensor_a)"
   ]
  },
  {
   "cell_type": "code",
   "execution_count": 71,
   "id": "84b4e9ba",
   "metadata": {},
   "outputs": [
    {
     "data": {
      "text/plain": [
       "tensor([   5,   36,  343, 4096])"
      ]
     },
     "execution_count": 71,
     "metadata": {},
     "output_type": "execute_result"
    }
   ],
   "source": [
    "#power\n",
    "torch.pow(tensor_b,tensor_a)"
   ]
  },
  {
   "cell_type": "code",
   "execution_count": 72,
   "id": "7b9d134e",
   "metadata": {},
   "outputs": [
    {
     "data": {
      "text/plain": [
       "tensor([ 6,  8, 10, 12])"
      ]
     },
     "execution_count": 72,
     "metadata": {},
     "output_type": "execute_result"
    }
   ],
   "source": [
    "tensor_a.add(tensor_b\n",
    "           )"
   ]
  },
  {
   "cell_type": "code",
   "execution_count": 73,
   "id": "240e0efd",
   "metadata": {},
   "outputs": [
    {
     "data": {
      "text/plain": [
       "tensor([ 6,  8, 10, 12])"
      ]
     },
     "execution_count": 73,
     "metadata": {},
     "output_type": "execute_result"
    }
   ],
   "source": [
    "#ressaginment (a= a+b)\n",
    "tensor_a.add_(tensor_b)"
   ]
  },
  {
   "cell_type": "code",
   "execution_count": 74,
   "id": "77ad2975",
   "metadata": {},
   "outputs": [],
   "source": [
    "#basic Nueral Network :)\n",
    "#iris Data set ( 4 features speal length 2pteal length and width )"
   ]
  },
  {
   "cell_type": "code",
   "execution_count": 75,
   "id": "e1ff0ee3",
   "metadata": {},
   "outputs": [],
   "source": [
    "import torch \n",
    "import torch.nn as nn \n",
    "import torch.nn.functional as F "
   ]
  },
  {
   "cell_type": "code",
   "execution_count": 76,
   "id": "4cc9675e",
   "metadata": {},
   "outputs": [],
   "source": [
    "#create A Model Class that inherits nn.Module \n",
    "#class based object oriented programming cause its good \n",
    "import torch \n",
    "import torch.nn as nn \n",
    "import torch.nn.functional as F \n",
    "class Model(nn.Module):\n",
    "    #Input Layer(4 features of the flowers -> length of speal and petal and width too)\n",
    "    #shoots it to Hidden Layer 1 (x number of nuerons) H1 \n",
    "    #shoots its output to Hidden Layer 2 (x nuerons ) H2 \n",
    "    # gives an output of 3 classes \n",
    "    def  __init__(self,in_features=4,h1=8,h2=9,out_features=3):\n",
    "        super().__init__() # instantiate our nn.module\n",
    "        self.fc1 = nn.Linear(in_features,h1)\n",
    "        #fc1 fully connected \n",
    "        self.fc2 = nn.Linear(h1,h2)\n",
    "        self.out = nn.Linear(h2,out_features)\n",
    "   \n",
    "    def forward(self,x):\n",
    "        x = F.relu(self.fc1(x))\n",
    "        x= F.relu(self.fc2(x))\n",
    "        x = F.relu(self.out(x))\n",
    "        return x \n",
    "        #rectify to linear unit if its less than 0 then 0 if its greater than give the number "
   ]
  },
  {
   "cell_type": "code",
   "execution_count": 77,
   "id": "97f8a68a",
   "metadata": {},
   "outputs": [],
   "source": [
    "# Manuel Seed ( they invovle Randomization ) (match the outputs )"
   ]
  },
  {
   "cell_type": "code",
   "execution_count": 78,
   "id": "28cd8728",
   "metadata": {},
   "outputs": [],
   "source": [
    "torch.manual_seed(41)\n",
    "#create and instance of our model \n",
    "modelA = Model()"
   ]
  },
  {
   "cell_type": "code",
   "execution_count": 79,
   "id": "e941878a",
   "metadata": {},
   "outputs": [],
   "source": [
    "import matplotlib.pyplot as plt\n",
    "%matplotlib inline "
   ]
  },
  {
   "cell_type": "code",
   "execution_count": 80,
   "id": "9b863b18",
   "metadata": {},
   "outputs": [],
   "source": [
    "import pandas as pd"
   ]
  },
  {
   "cell_type": "code",
   "execution_count": 81,
   "id": "f1f7b056",
   "metadata": {},
   "outputs": [],
   "source": [
    "url = 'https://gist.githubusercontent.com/netj/8836201/raw/6f9306ad21398ea43cba4f7d537619d0e07d5ae3/iris.csv'\n",
    "my_df = pd.read_csv(url)"
   ]
  },
  {
   "cell_type": "code",
   "execution_count": 82,
   "id": "f41c6efe",
   "metadata": {},
   "outputs": [
    {
     "data": {
      "text/html": [
       "<div>\n",
       "<style scoped>\n",
       "    .dataframe tbody tr th:only-of-type {\n",
       "        vertical-align: middle;\n",
       "    }\n",
       "\n",
       "    .dataframe tbody tr th {\n",
       "        vertical-align: top;\n",
       "    }\n",
       "\n",
       "    .dataframe thead th {\n",
       "        text-align: right;\n",
       "    }\n",
       "</style>\n",
       "<table border=\"1\" class=\"dataframe\">\n",
       "  <thead>\n",
       "    <tr style=\"text-align: right;\">\n",
       "      <th></th>\n",
       "      <th>sepal.length</th>\n",
       "      <th>sepal.width</th>\n",
       "      <th>petal.length</th>\n",
       "      <th>petal.width</th>\n",
       "      <th>variety</th>\n",
       "    </tr>\n",
       "  </thead>\n",
       "  <tbody>\n",
       "    <tr>\n",
       "      <th>0</th>\n",
       "      <td>5.1</td>\n",
       "      <td>3.5</td>\n",
       "      <td>1.4</td>\n",
       "      <td>0.2</td>\n",
       "      <td>Setosa</td>\n",
       "    </tr>\n",
       "    <tr>\n",
       "      <th>1</th>\n",
       "      <td>4.9</td>\n",
       "      <td>3.0</td>\n",
       "      <td>1.4</td>\n",
       "      <td>0.2</td>\n",
       "      <td>Setosa</td>\n",
       "    </tr>\n",
       "    <tr>\n",
       "      <th>2</th>\n",
       "      <td>4.7</td>\n",
       "      <td>3.2</td>\n",
       "      <td>1.3</td>\n",
       "      <td>0.2</td>\n",
       "      <td>Setosa</td>\n",
       "    </tr>\n",
       "    <tr>\n",
       "      <th>3</th>\n",
       "      <td>4.6</td>\n",
       "      <td>3.1</td>\n",
       "      <td>1.5</td>\n",
       "      <td>0.2</td>\n",
       "      <td>Setosa</td>\n",
       "    </tr>\n",
       "    <tr>\n",
       "      <th>4</th>\n",
       "      <td>5.0</td>\n",
       "      <td>3.6</td>\n",
       "      <td>1.4</td>\n",
       "      <td>0.2</td>\n",
       "      <td>Setosa</td>\n",
       "    </tr>\n",
       "    <tr>\n",
       "      <th>...</th>\n",
       "      <td>...</td>\n",
       "      <td>...</td>\n",
       "      <td>...</td>\n",
       "      <td>...</td>\n",
       "      <td>...</td>\n",
       "    </tr>\n",
       "    <tr>\n",
       "      <th>145</th>\n",
       "      <td>6.7</td>\n",
       "      <td>3.0</td>\n",
       "      <td>5.2</td>\n",
       "      <td>2.3</td>\n",
       "      <td>Virginica</td>\n",
       "    </tr>\n",
       "    <tr>\n",
       "      <th>146</th>\n",
       "      <td>6.3</td>\n",
       "      <td>2.5</td>\n",
       "      <td>5.0</td>\n",
       "      <td>1.9</td>\n",
       "      <td>Virginica</td>\n",
       "    </tr>\n",
       "    <tr>\n",
       "      <th>147</th>\n",
       "      <td>6.5</td>\n",
       "      <td>3.0</td>\n",
       "      <td>5.2</td>\n",
       "      <td>2.0</td>\n",
       "      <td>Virginica</td>\n",
       "    </tr>\n",
       "    <tr>\n",
       "      <th>148</th>\n",
       "      <td>6.2</td>\n",
       "      <td>3.4</td>\n",
       "      <td>5.4</td>\n",
       "      <td>2.3</td>\n",
       "      <td>Virginica</td>\n",
       "    </tr>\n",
       "    <tr>\n",
       "      <th>149</th>\n",
       "      <td>5.9</td>\n",
       "      <td>3.0</td>\n",
       "      <td>5.1</td>\n",
       "      <td>1.8</td>\n",
       "      <td>Virginica</td>\n",
       "    </tr>\n",
       "  </tbody>\n",
       "</table>\n",
       "<p>150 rows × 5 columns</p>\n",
       "</div>"
      ],
      "text/plain": [
       "     sepal.length  sepal.width  petal.length  petal.width    variety\n",
       "0             5.1          3.5           1.4          0.2     Setosa\n",
       "1             4.9          3.0           1.4          0.2     Setosa\n",
       "2             4.7          3.2           1.3          0.2     Setosa\n",
       "3             4.6          3.1           1.5          0.2     Setosa\n",
       "4             5.0          3.6           1.4          0.2     Setosa\n",
       "..            ...          ...           ...          ...        ...\n",
       "145           6.7          3.0           5.2          2.3  Virginica\n",
       "146           6.3          2.5           5.0          1.9  Virginica\n",
       "147           6.5          3.0           5.2          2.0  Virginica\n",
       "148           6.2          3.4           5.4          2.3  Virginica\n",
       "149           5.9          3.0           5.1          1.8  Virginica\n",
       "\n",
       "[150 rows x 5 columns]"
      ]
     },
     "execution_count": 82,
     "metadata": {},
     "output_type": "execute_result"
    }
   ],
   "source": [
    "my_df"
   ]
  },
  {
   "cell_type": "code",
   "execution_count": 83,
   "id": "3b25f993",
   "metadata": {},
   "outputs": [
    {
     "data": {
      "text/html": [
       "<div>\n",
       "<style scoped>\n",
       "    .dataframe tbody tr th:only-of-type {\n",
       "        vertical-align: middle;\n",
       "    }\n",
       "\n",
       "    .dataframe tbody tr th {\n",
       "        vertical-align: top;\n",
       "    }\n",
       "\n",
       "    .dataframe thead th {\n",
       "        text-align: right;\n",
       "    }\n",
       "</style>\n",
       "<table border=\"1\" class=\"dataframe\">\n",
       "  <thead>\n",
       "    <tr style=\"text-align: right;\">\n",
       "      <th></th>\n",
       "      <th>sepal.length</th>\n",
       "      <th>sepal.width</th>\n",
       "      <th>petal.length</th>\n",
       "      <th>petal.width</th>\n",
       "      <th>variety</th>\n",
       "    </tr>\n",
       "  </thead>\n",
       "  <tbody>\n",
       "    <tr>\n",
       "      <th>0</th>\n",
       "      <td>5.1</td>\n",
       "      <td>3.5</td>\n",
       "      <td>1.4</td>\n",
       "      <td>0.2</td>\n",
       "      <td>0.0</td>\n",
       "    </tr>\n",
       "    <tr>\n",
       "      <th>1</th>\n",
       "      <td>4.9</td>\n",
       "      <td>3.0</td>\n",
       "      <td>1.4</td>\n",
       "      <td>0.2</td>\n",
       "      <td>0.0</td>\n",
       "    </tr>\n",
       "    <tr>\n",
       "      <th>2</th>\n",
       "      <td>4.7</td>\n",
       "      <td>3.2</td>\n",
       "      <td>1.3</td>\n",
       "      <td>0.2</td>\n",
       "      <td>0.0</td>\n",
       "    </tr>\n",
       "    <tr>\n",
       "      <th>3</th>\n",
       "      <td>4.6</td>\n",
       "      <td>3.1</td>\n",
       "      <td>1.5</td>\n",
       "      <td>0.2</td>\n",
       "      <td>0.0</td>\n",
       "    </tr>\n",
       "    <tr>\n",
       "      <th>4</th>\n",
       "      <td>5.0</td>\n",
       "      <td>3.6</td>\n",
       "      <td>1.4</td>\n",
       "      <td>0.2</td>\n",
       "      <td>0.0</td>\n",
       "    </tr>\n",
       "    <tr>\n",
       "      <th>...</th>\n",
       "      <td>...</td>\n",
       "      <td>...</td>\n",
       "      <td>...</td>\n",
       "      <td>...</td>\n",
       "      <td>...</td>\n",
       "    </tr>\n",
       "    <tr>\n",
       "      <th>145</th>\n",
       "      <td>6.7</td>\n",
       "      <td>3.0</td>\n",
       "      <td>5.2</td>\n",
       "      <td>2.3</td>\n",
       "      <td>2.0</td>\n",
       "    </tr>\n",
       "    <tr>\n",
       "      <th>146</th>\n",
       "      <td>6.3</td>\n",
       "      <td>2.5</td>\n",
       "      <td>5.0</td>\n",
       "      <td>1.9</td>\n",
       "      <td>2.0</td>\n",
       "    </tr>\n",
       "    <tr>\n",
       "      <th>147</th>\n",
       "      <td>6.5</td>\n",
       "      <td>3.0</td>\n",
       "      <td>5.2</td>\n",
       "      <td>2.0</td>\n",
       "      <td>2.0</td>\n",
       "    </tr>\n",
       "    <tr>\n",
       "      <th>148</th>\n",
       "      <td>6.2</td>\n",
       "      <td>3.4</td>\n",
       "      <td>5.4</td>\n",
       "      <td>2.3</td>\n",
       "      <td>2.0</td>\n",
       "    </tr>\n",
       "    <tr>\n",
       "      <th>149</th>\n",
       "      <td>5.9</td>\n",
       "      <td>3.0</td>\n",
       "      <td>5.1</td>\n",
       "      <td>1.8</td>\n",
       "      <td>2.0</td>\n",
       "    </tr>\n",
       "  </tbody>\n",
       "</table>\n",
       "<p>150 rows × 5 columns</p>\n",
       "</div>"
      ],
      "text/plain": [
       "     sepal.length  sepal.width  petal.length  petal.width  variety\n",
       "0             5.1          3.5           1.4          0.2      0.0\n",
       "1             4.9          3.0           1.4          0.2      0.0\n",
       "2             4.7          3.2           1.3          0.2      0.0\n",
       "3             4.6          3.1           1.5          0.2      0.0\n",
       "4             5.0          3.6           1.4          0.2      0.0\n",
       "..            ...          ...           ...          ...      ...\n",
       "145           6.7          3.0           5.2          2.3      2.0\n",
       "146           6.3          2.5           5.0          1.9      2.0\n",
       "147           6.5          3.0           5.2          2.0      2.0\n",
       "148           6.2          3.4           5.4          2.3      2.0\n",
       "149           5.9          3.0           5.1          1.8      2.0\n",
       "\n",
       "[150 rows x 5 columns]"
      ]
     },
     "execution_count": 83,
     "metadata": {},
     "output_type": "execute_result"
    }
   ],
   "source": [
    "my_df['variety'] = my_df['variety'].replace(\"Setosa\",0.0)\n",
    "my_df['variety'] = my_df['variety'].replace(\"Versicolor\",1.0)\n",
    "my_df['variety'] = my_df['variety'].replace(\"Virginica\",2.0)\n",
    "my_df"
   ]
  },
  {
   "cell_type": "code",
   "execution_count": 84,
   "id": "f8383b0c",
   "metadata": {},
   "outputs": [],
   "source": [
    "# train test Split Set X,Y\n",
    "X= my_df.drop('variety',axis=1)\n",
    "Y = my_df['variety']"
   ]
  },
  {
   "cell_type": "code",
   "execution_count": 85,
   "id": "9e3c13e8",
   "metadata": {},
   "outputs": [],
   "source": [
    "#conveting to numpy arrays\n",
    "X=X.values\n",
    "Y=Y.values"
   ]
  },
  {
   "cell_type": "code",
   "execution_count": 86,
   "id": "dffea225",
   "metadata": {},
   "outputs": [],
   "source": [
    "from sklearn.model_selection import train_test_split "
   ]
  },
  {
   "cell_type": "code",
   "execution_count": 87,
   "id": "8c0f3931",
   "metadata": {},
   "outputs": [],
   "source": [
    "X_Train, X_test, Y_Train, Y_test = train_test_split(X, Y, test_size=0.2, random_state=41)"
   ]
  },
  {
   "cell_type": "code",
   "execution_count": 88,
   "id": "a9cb1147",
   "metadata": {},
   "outputs": [],
   "source": [
    "# X features to tensors \n",
    "X_Train = torch.FloatTensor(X_Train)\n",
    "X_test = torch.FloatTensor(X_test)"
   ]
  },
  {
   "cell_type": "code",
   "execution_count": 89,
   "id": "ce143f36",
   "metadata": {},
   "outputs": [],
   "source": [
    "# y lables to tensors "
   ]
  },
  {
   "cell_type": "code",
   "execution_count": 90,
   "id": "20940326",
   "metadata": {},
   "outputs": [],
   "source": [
    "Y_Train = torch.LongTensor(Y_Train)\n",
    "Y_test = torch.LongTensor(Y_test)"
   ]
  },
  {
   "cell_type": "code",
   "execution_count": 91,
   "id": "924b5f98",
   "metadata": {},
   "outputs": [],
   "source": [
    "#Set the criterion of the model to measure the error "
   ]
  },
  {
   "cell_type": "code",
   "execution_count": 92,
   "id": "526de412",
   "metadata": {},
   "outputs": [],
   "source": [
    "criterion = nn.CrossEntropyLoss()\n",
    "#choose and optimizer\n",
    "# ADAM OPTIMISER , Learning Rate (if Error doesnt go down after a bunch of iterations (epochs), we would want to lower our learning rate )\n",
    "optimizer = torch.optim.Adam(modelA.parameters(),lr=0.01)\n",
    "\n"
   ]
  },
  {
   "cell_type": "code",
   "execution_count": 93,
   "id": "58a77517",
   "metadata": {},
   "outputs": [],
   "source": [
    "# TRAIN MODEL"
   ]
  },
  {
   "cell_type": "code",
   "execution_count": 94,
   "id": "1769e028",
   "metadata": {},
   "outputs": [
    {
     "name": "stdout",
     "output_type": "stream",
     "text": [
      "Epoch 0 and loss1.125203251838684\n",
      "Epoch 10 and loss1.0097211599349976\n",
      "Epoch 20 and loss0.8516881465911865\n",
      "Epoch 30 and loss0.6555684804916382\n",
      "Epoch 40 and loss0.45029523968696594\n",
      "Epoch 50 and loss0.2718472480773926\n",
      "Epoch 60 and loss0.1553877890110016\n",
      "Epoch 70 and loss0.09336269646883011\n",
      "Epoch 80 and loss0.06463461369276047\n",
      "Epoch 90 and loss0.05066273361444473\n"
     ]
    }
   ],
   "source": [
    "#Epochs ? (one run throught all the training data in our network )\n",
    "epochs = 100 \n",
    "losses = []\n",
    "for i in range(epochs):\n",
    "    # Go fowards and get a pred\n",
    "    y_pred = modelA.forward(X_Train)# get predicted Results \n",
    "    # Measure the errors \n",
    "    loss = criterion(y_pred, Y_Train) # predicted value vs the Y trainning Value \n",
    "    #keeping track\n",
    "    losses.append(loss.detach().numpy())\n",
    "    #print every 10 epochs\n",
    "    if i% 10 == 0:\n",
    "        print(f'Epoch {i} and loss{loss}')\n",
    "        \n",
    "    #Do some back propogation ( you take the error rate moving forward and we feeed it back to the network to fine tune the weights )\n",
    "    \n",
    "    optimizer.zero_grad()\n",
    "    loss.backward()\n",
    "    optimizer.step()"
   ]
  },
  {
   "cell_type": "code",
   "execution_count": 95,
   "id": "0c9c382a",
   "metadata": {},
   "outputs": [],
   "source": [
    "# Graph out our losses "
   ]
  },
  {
   "cell_type": "code",
   "execution_count": 96,
   "id": "74d102d3",
   "metadata": {},
   "outputs": [
    {
     "data": {
      "text/plain": [
       "Text(0.5, 0, 'Epochs')"
      ]
     },
     "execution_count": 96,
     "metadata": {},
     "output_type": "execute_result"
    },
    {
     "data": {
      "image/png": "[encoded data removed]",
      "text/plain": [
       "<Figure size 640x480 with 1 Axes>"
      ]
     },
     "metadata": {},
     "output_type": "display_data"
    }
   ],
   "source": [
    "plt.plot(range(epochs),losses)\n",
    "plt.ylabel(\"loss/error\")\n",
    "plt.xlabel('Epochs')"
   ]
  },
  {
   "cell_type": "code",
   "execution_count": 97,
   "id": "a27e2cd9",
   "metadata": {
    "scrolled": true
   },
   "outputs": [],
   "source": [
    "# Using Test Data Set :\n",
    "# we working with train so new stuff \n",
    "#we need to turn of back prop \n",
    "with torch.no_grad():\n",
    "    y_eval = modelA.forward(X_test)\n",
    "    loss = criterion(y_eval , Y_test)"
   ]
  },
  {
   "cell_type": "code",
   "execution_count": 98,
   "id": "a1c8d195",
   "metadata": {},
   "outputs": [
    {
     "data": {
      "text/plain": [
       "tensor(0.1295)"
      ]
     },
     "execution_count": 98,
     "metadata": {},
     "output_type": "execute_result"
    }
   ],
   "source": [
    "loss"
   ]
  },
  {
   "cell_type": "code",
   "execution_count": 99,
   "id": "b2cb9bdb",
   "metadata": {},
   "outputs": [
    {
     "name": "stdout",
     "output_type": "stream",
     "text": [
      "1.)tensor([0.0000, 7.4447, 9.9152]) \t 2 \t 2 \n",
      "2.)tensor([ 0.0000,  7.7042, 14.3743]) \t 2 \t 2 \n",
      "3.)tensor([ 0.0000,  9.1280, 15.1753]) \t 2 \t 2 \n",
      "4.)tensor([0.2102, 8.3280, 4.5364]) \t 1 \t 1 \n",
      "5.)tensor([ 0.0000,  8.4035, 12.4779]) \t 2 \t 2 \n",
      "6.)tensor([1.6255, 8.0527, 1.9799]) \t 1 \t 1 \n",
      "7.)tensor([0.0000, 8.0659, 9.2757]) \t 2 \t 2 \n",
      "8.)tensor([0.3294, 8.4105, 4.3070]) \t 1 \t 1 \n",
      "9.)tensor([ 0.0000,  8.2367, 10.8423]) \t 2 \t 2 \n",
      "10.)tensor([ 0.0000,  8.1941, 15.2505]) \t 2 \t 2 \n",
      "11.)tensor([0.0000, 7.9806, 8.7350]) \t 2 \t 2 \n",
      "12.)tensor([8.9715, 3.4637, 0.0000]) \t 0 \t 0 \n",
      "13.)tensor([8.0554, 3.1741, 0.0000]) \t 0 \t 0 \n",
      "14.)tensor([2.2377, 6.4805, 0.4353]) \t 1 \t 1 \n",
      "15.)tensor([8.0202, 3.9148, 0.0000]) \t 0 \t 0 \n",
      "16.)tensor([0.0000, 8.1254, 8.0101]) \t 2 \t 1 \n",
      "17.)tensor([8.3626, 3.3009, 0.0000]) \t 0 \t 0 \n",
      "18.)tensor([0.0000, 7.6349, 9.5548]) \t 1 \t 2 \n",
      "19.)tensor([8.9383, 3.4532, 0.0000]) \t 0 \t 0 \n",
      "20.)tensor([7.5003, 3.3025, 0.0000]) \t 0 \t 0 \n",
      "21.)tensor([1.9760, 7.0980, 1.0766]) \t 1 \t 1 \n",
      "22.)tensor([ 0.0000,  8.4465, 14.0281]) \t 2 \t 2 \n",
      "23.)tensor([8.1228, 3.8523, 0.0000]) \t 0 \t 0 \n",
      "24.)tensor([8.5193, 3.3207, 0.0000]) \t 0 \t 0 \n",
      "25.)tensor([2.1818, 7.3382, 0.9439]) \t 1 \t 1 \n",
      "26.)tensor([1.5164, 7.7569, 1.9648]) \t 1 \t 1 \n",
      "27.)tensor([0.0574, 8.6209, 5.0719]) \t 1 \t 1 \n",
      "28.)tensor([1.7819, 7.5184, 1.5399]) \t 1 \t 1 \n",
      "29.)tensor([8.8647, 3.4299, 0.0000]) \t 0 \t 0 \n",
      "30.)tensor([0.0000, 8.2085, 5.3598]) \t 1 \t 1 \n",
      "we got 28\n"
     ]
    }
   ],
   "source": [
    "correct = 0\n",
    "with torch.no_grad():\n",
    "    for i , data in enumerate(X_test):\n",
    "        y_val = modelA.forward(data)\n",
    "        \n",
    "        print(f'{i+1}.){str(y_val)} \\t {Y_test[i]} \\t {y_val.argmax().item()} ')\n",
    "        \n",
    "#         check wheather correct or no\n",
    "        if y_val.argmax().item() == Y_test[i]:\n",
    "            correct+=1\n",
    "            \n",
    "print(f\"we got {correct}\")"
   ]
  },
  {
   "cell_type": "code",
   "execution_count": 100,
   "id": "6b60cd19",
   "metadata": {},
   "outputs": [],
   "source": [
    "new_iris = torch.tensor([4.7, 3.2,1.3,0.2])"
   ]
  },
  {
   "cell_type": "code",
   "execution_count": 101,
   "id": "841cdc66",
   "metadata": {},
   "outputs": [
    {
     "name": "stdout",
     "output_type": "stream",
     "text": [
      "tensor([8.5193, 3.3207, 0.0000])\n"
     ]
    }
   ],
   "source": [
    "with torch.no_grad():\n",
    "    print(modelA(new_iris))"
   ]
  },
  {
   "cell_type": "code",
   "execution_count": 102,
   "id": "44eafe14",
   "metadata": {},
   "outputs": [],
   "source": [
    "newer_iris = torch.tensor([5.9 , 3.0 ,5.1,1.8])"
   ]
  },
  {
   "cell_type": "code",
   "execution_count": 103,
   "id": "26b06cac",
   "metadata": {},
   "outputs": [
    {
     "name": "stdout",
     "output_type": "stream",
     "text": [
      "tensor([ 0.0000,  7.5979, 10.1487])\n"
     ]
    }
   ],
   "source": [
    "with torch.no_grad():\n",
    "    print(modelA(newer_iris))"
   ]
  },
  {
   "cell_type": "code",
   "execution_count": 104,
   "id": "73123501",
   "metadata": {},
   "outputs": [],
   "source": [
    "new_iris = torch.tensor([4.7, 3.2,1.3,0.2])"
   ]
  },
  {
   "cell_type": "code",
   "execution_count": null,
   "id": "3e5fc9c4",
   "metadata": {},
   "outputs": [],
   "source": []
  },
  {
   "cell_type": "code",
   "execution_count": null,
   "id": "351ee663",
   "metadata": {},
   "outputs": [],
   "source": []
  }
 ],
 "metadata": {
  "kernelspec": {
   "display_name": "Python 3 (ipykernel)",
   "language": "python",
   "name": "python3"
  },
  "language_info": {
   "codemirror_mode": {
    "name": "ipython",
    "version": 3
   },
   "file_extension": ".py",
   "mimetype": "text/x-python",
   "name": "python",
   "nbconvert_exporter": "python",
   "pygments_lexer": "ipython3",
   "version": "3.11.5"
  }
 },
 "nbformat": 4,
 "nbformat_minor": 5
}
